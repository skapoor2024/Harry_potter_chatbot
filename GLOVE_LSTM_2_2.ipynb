{
  "nbformat": 4,
  "nbformat_minor": 0,
  "metadata": {
    "colab": {
      "provenance": [],
      "machine_shape": "hm",
      "gpuType": "L4"
    },
    "kernelspec": {
      "name": "python3",
      "display_name": "Python 3"
    },
    "language_info": {
      "name": "python"
    },
    "accelerator": "GPU"
  },
  "cells": [
    {
      "cell_type": "code",
      "execution_count": null,
      "metadata": {
        "id": "ervjSv-TpTfc"
      },
      "outputs": [],
      "source": [
        "import tensorflow as tf\n",
        "from tensorflow.keras.layers import Input, LSTM, Dense, Embedding, Bidirectional, Concatenate, Attention, TimeDistributed,LayerNormalization\n",
        "from tensorflow.keras.models import Model\n",
        "from tensorflow.keras.preprocessing.text import Tokenizer\n",
        "from tensorflow.keras.preprocessing.sequence import pad_sequences\n",
        "from tensorflow.keras.optimizers import Adam\n",
        "\n",
        "import numpy as np"
      ]
    },
    {
      "cell_type": "code",
      "source": [
        "import json"
      ],
      "metadata": {
        "id": "3QvJkpbetnE7"
      },
      "execution_count": null,
      "outputs": []
    },
    {
      "cell_type": "code",
      "source": [
        "from tensorflow.keras.callbacks import EarlyStopping\n",
        "from sklearn.model_selection import train_test_split"
      ],
      "metadata": {
        "id": "eOWvE5xPD22S"
      },
      "execution_count": null,
      "outputs": []
    },
    {
      "cell_type": "code",
      "source": [
        "from tensorflow.keras.callbacks import Callback"
      ],
      "metadata": {
        "id": "XriXP9MEfUxO"
      },
      "execution_count": null,
      "outputs": []
    },
    {
      "cell_type": "code",
      "source": [
        "from tensorflow.keras.utils import to_categorical"
      ],
      "metadata": {
        "id": "e531SsBzb8Ie"
      },
      "execution_count": null,
      "outputs": []
    },
    {
      "cell_type": "code",
      "source": [
        "def get_glove_embeddings(path, word_index, embedding_dim=100):\n",
        "    embeddings_index = {}\n",
        "    with open(path, 'r', encoding='utf8') as f:\n",
        "        for line in f:\n",
        "            values = line.split()\n",
        "            word = values[0]\n",
        "            coefs = np.asarray(values[1:], dtype='float32')\n",
        "            embeddings_index[word] = coefs\n",
        "\n",
        "    embedding_matrix = np.zeros((len(word_index) + 1, embedding_dim))\n",
        "    for word, i in word_index.items():\n",
        "        embedding_vector = embeddings_index.get(word)\n",
        "        if embedding_vector is not None:\n",
        "            embedding_matrix[i] = embedding_vector  # words not found in the embedding index will be all-zeros.\n",
        "    return embedding_matrix\n"
      ],
      "metadata": {
        "id": "pk2N_gCJpfP-"
      },
      "execution_count": null,
      "outputs": []
    },
    {
      "cell_type": "code",
      "source": [
        "def load_data(file_path):\n",
        "    with open(file_path, 'r') as file:\n",
        "        data = json.load(file)\n",
        "    return data\n",
        "\n",
        "def preprocess_data(data):\n",
        "    # Extract dialogues and preprocess\n",
        "    inputs, targets = [], []\n",
        "\n",
        "    for session_id, session in data.items():\n",
        "        dialogue = session['dialogue']\n",
        "        for i in range(len(dialogue) - 1):  # Ensure there's a following line to consider as a response\n",
        "            if \"Harry:\" not in dialogue[i] and \"Harry:\" in dialogue[i + 1]:\n",
        "                # Extract the line before Harry's response if Harry is not speaking in the current line\n",
        "                input_line = dialogue[i]\n",
        "                response_line = dialogue[i + 1]\n",
        "\n",
        "                # Parse the lines to remove the speaker names\n",
        "                input_text = input_line.split(': ', 1)[1] if ': ' in input_line else input_line\n",
        "                response_text = response_line.split(': ', 1)[1] if ': ' in response_line else response_line\n",
        "\n",
        "                # Append the preprocessed lines to the lists\n",
        "                inputs.append(input_text)\n",
        "                targets.append('<start>' + response_text + '<end>')\n",
        "\n",
        "    #print(\"Sample input with tokens:\", inputs[0]\n",
        "    #print(\"Sample target with tokens:\", targets[0])\n",
        "    tokenizer = Tokenizer()\n",
        "    tokenizer.fit_on_texts(inputs + targets)\n",
        "    if '<start>' not in tokenizer.word_index:\n",
        "        tokenizer.word_index['<start>'] = len(tokenizer.word_index) + 1\n",
        "    if '<end>' not in tokenizer.word_index:\n",
        "        tokenizer.word_index['<end>'] = len(tokenizer.word_index) + 1\n",
        "    print(\"Index of '<start>':\", tokenizer.word_index.get('<start>'))\n",
        "    print(\"Index of '<end>':\", tokenizer.word_index.get('<end>'))\n",
        "    input_seqs = tokenizer.texts_to_sequences(inputs)\n",
        "    target_seqs = tokenizer.texts_to_sequences(targets)\n",
        "    max_len = max(max([len(seq) for seq in input_seqs]), max([len(seq) for seq in target_seqs]))\n",
        "    encoder_input_data = pad_sequences(input_seqs, maxlen=max_len, padding='post')\n",
        "    decoder_input_data = pad_sequences(target_seqs, maxlen=max_len, padding='post')\n",
        "\n",
        "    num_classes = len(tokenizer.word_index) + 1\n",
        "    # One-hot encode the target sequences\n",
        "    decoder_target_data = np.zeros((len(decoder_input_data), max_len, num_classes), dtype='float32')\n",
        "    for i in range(len(decoder_input_data)):\n",
        "        for j in range(max_len):\n",
        "            if j < len(decoder_input_data[i]):\n",
        "                decoder_target_data[i, j, decoder_input_data[i][j]] = 1\n",
        "    print(\"Shape of encoder input data:\", encoder_input_data.shape)\n",
        "    print(\"Shape of decoder input data:\", decoder_input_data.shape)\n",
        "    print(\"Shape of decoder target data:\", decoder_target_data.shape)\n",
        "    return encoder_input_data,decoder_input_data,decoder_target_data, tokenizer, max_len\n"
      ],
      "metadata": {
        "id": "i8WYj9xbpss9"
      },
      "execution_count": null,
      "outputs": []
    },
    {
      "cell_type": "code",
      "source": [
        "def preprocess_data_inference(data,tokenizer):\n",
        "    # Extract dialogues and preprocess\n",
        "    inputs, targets = [], []\n",
        "\n",
        "    for session_id, session in data.items():\n",
        "        dialogue = session['dialogue']\n",
        "        for i in range(len(dialogue) - 1):  # Ensure there's a following line to consider as a response\n",
        "            if \"Harry:\" not in dialogue[i] and \"Harry:\" in dialogue[i + 1]:\n",
        "                # Extract the line before Harry's response if Harry is not speaking in the current line\n",
        "                input_line = dialogue[i]\n",
        "                response_line = dialogue[i + 1]\n",
        "\n",
        "                # Parse the lines to remove the speaker names\n",
        "                input_text = input_line.split(': ', 1)[1] if ': ' in input_line else input_line\n",
        "                response_text = response_line.split(': ', 1)[1] if ': ' in response_line else response_line\n",
        "\n",
        "                # Append the preprocessed lines to the lists\n",
        "                inputs.append(input_text)\n",
        "                targets.append('<start>' + response_text + '<end>')\n",
        "\n",
        "\n",
        "    input_seqs = tokenizer.texts_to_sequences(inputs)\n",
        "    target_seqs = tokenizer.texts_to_sequences(targets)\n",
        "    max_len = max(max([len(seq) for seq in input_seqs]), max([len(seq) for seq in target_seqs]))\n",
        "    encoder_input_data = pad_sequences(input_seqs, maxlen=max_len, padding='post')\n",
        "    decoder_input_data = pad_sequences(target_seqs, maxlen=max_len, padding='post')\n",
        "\n",
        "    num_classes = len(tokenizer.word_index) + 1\n",
        "    # One-hot encode the target sequences\n",
        "    decoder_target_data = np.zeros((len(decoder_input_data), max_len, num_classes), dtype='float32')\n",
        "    for i in range(len(decoder_input_data)):\n",
        "        for j in range(max_len):\n",
        "            if j < len(decoder_input_data[i]):\n",
        "                decoder_target_data[i, j, decoder_input_data[i][j]] = 1\n",
        "    print(\"Shape of encoder input data:\", encoder_input_data.shape)\n",
        "    print(\"Shape of decoder input data:\", decoder_input_data.shape)\n",
        "    print(\"Shape of decoder target data:\", decoder_target_data.shape)\n",
        "\n",
        "    return encoder_input_data,decoder_input_data,decoder_target_data, max_len"
      ],
      "metadata": {
        "id": "ZGVye5DBU_FN"
      },
      "execution_count": null,
      "outputs": []
    },
    {
      "cell_type": "code",
      "source": [
        "def create_dataset(encoder_input_data, decoder_input_data, decoder_target_data, batch_size=64):\n",
        "    # Create a TensorFlow dataset object\n",
        "    dataset = tf.data.Dataset.from_tensor_slices((\n",
        "        {\"encoder_inputs\": encoder_input_data, \"decoder_inputs\": decoder_input_data},\n",
        "        decoder_target_data\n",
        "    ))\n",
        "\n",
        "    # Cache the dataset, shuffle, batch, and prefetch to improve performance\n",
        "    dataset = dataset.cache()\n",
        "    dataset = dataset.shuffle(buffer_size=len(encoder_input_data))\n",
        "    dataset = dataset.batch(batch_size)\n",
        "    dataset = dataset.prefetch(tf.data.experimental.AUTOTUNE)\n",
        "\n",
        "    return dataset"
      ],
      "metadata": {
        "id": "6xPvjhUO2FXZ"
      },
      "execution_count": null,
      "outputs": []
    },
    {
      "cell_type": "code",
      "source": [
        "def build_model(vocab_size, max_len, embedding_matrix):\n",
        "    # Encoder\n",
        "    encoder_inputs = Input(shape=(None,),name = 'encoder_inputs')\n",
        "    encoder_embedding = Embedding(input_dim=vocab_size, output_dim=embedding_matrix.shape[1], weights=[embedding_matrix], trainable=False)(encoder_inputs)\n",
        "\n",
        "    # Two BiLSTM Encoder layers\n",
        "    encoder_bilstm1 = Bidirectional(LSTM(128, return_sequences=True, return_state=True, dropout=0.2))\n",
        "    encoder_outputs1, forward_h1, forward_c1, backward_h1, backward_c1 = encoder_bilstm1(encoder_embedding)\n",
        "    state_h1 = Concatenate()([forward_h1, backward_h1])\n",
        "    state_c1 = Concatenate()([forward_c1, backward_c1])\n",
        "\n",
        "    encoder_bilstm2 = Bidirectional(LSTM(128, return_sequences=True, return_state=True, dropout=0.2))\n",
        "    encoder_outputs2, forward_h2, forward_c2, backward_h2, backward_c2 = encoder_bilstm2(encoder_outputs1)\n",
        "    state_h2 = Concatenate()([forward_h2, backward_h2])\n",
        "    state_c2 = Concatenate()([forward_c2, backward_c2])\n",
        "\n",
        "    # Decoder\n",
        "    decoder_inputs = Input(shape=(None,), name = 'decoder_inputs')\n",
        "    decoder_embedding = Embedding(input_dim=vocab_size, output_dim=embedding_matrix.shape[1], weights=[embedding_matrix], trainable=False)(decoder_inputs)\n",
        "    decoder_lstm = LSTM(256, return_sequences=True, dropout=0.2)\n",
        "    decoder_outputs = decoder_lstm(decoder_embedding, initial_state=[state_h2, state_c2])\n",
        "\n",
        "    # Self-Attention Layer\n",
        "    attention_layer = Attention()\n",
        "    attention_result = attention_layer([decoder_outputs, encoder_outputs2])\n",
        "\n",
        "    # Concatenate attention input and decoder LSTM output\n",
        "    decoder_concat_input = Concatenate(axis=-1)([decoder_outputs, attention_result])\n",
        "    decoder_concat_input = LayerNormalization()(decoder_concat_input)\n",
        "\n",
        "    # Dense layer for output\n",
        "    decoder_dense = TimeDistributed(Dense(vocab_size, activation='softmax'))\n",
        "    decoder_outputs = decoder_dense(decoder_concat_input)\n",
        "\n",
        "    # Model\n",
        "    model = Model([encoder_inputs, decoder_inputs], decoder_outputs)\n",
        "    model.compile(optimizer='adam', loss='categorical_crossentropy', metrics=['accuracy'])\n",
        "    model.summary()\n",
        "    return model"
      ],
      "metadata": {
        "id": "VlzBeIlytrI5"
      },
      "execution_count": null,
      "outputs": []
    },
    {
      "cell_type": "code",
      "source": [
        "#training the model\n",
        "train_path = '/content/drive/My Drive/en_train_set.json'\n",
        "train_data = load_data(train_path)\n",
        "encoder_input_data, decoder_input_data,decoder_target_data, tokenizer, max_sequence_len = preprocess_data(train_data)\n",
        "train_encoder_input, val_encoder_input, train_decoder_input, val_decoder_input, train_decoder_target, val_decoder_target = train_test_split(\n",
        "    encoder_input_data, decoder_input_data, decoder_target_data, test_size=0.2, random_state=13)\n",
        "# Create training dataset\n",
        "train_dataset = create_dataset(train_encoder_input, train_decoder_input, train_decoder_target, batch_size=8)\n",
        "\n",
        "# Create validation dataset\n",
        "val_dataset = create_dataset(val_encoder_input, val_decoder_input, val_decoder_target, batch_size=8)"
      ],
      "metadata": {
        "id": "mVDu4Hkzt3nk",
        "colab": {
          "base_uri": "https://localhost:8080/"
        },
        "outputId": "d308407d-d3fc-485c-b7d1-7682265da8d2"
      },
      "execution_count": null,
      "outputs": [
        {
          "output_type": "stream",
          "name": "stdout",
          "text": [
            "Index of '<start>': 8005\n",
            "Index of '<end>': 8006\n",
            "Shape of encoder input data: (4372, 600)\n",
            "Shape of decoder input data: (4372, 600)\n",
            "Shape of decoder target data: (4372, 600, 8007)\n"
          ]
        }
      ]
    },
    {
      "cell_type": "code",
      "source": [
        "glove_path = '/content/drive/My Drive/glove.6B.100d.txt'\n",
        "embedding_matrix = get_glove_embeddings(glove_path, tokenizer.word_index)"
      ],
      "metadata": {
        "id": "pOCQFHVSuaiG"
      },
      "execution_count": null,
      "outputs": []
    },
    {
      "cell_type": "code",
      "source": [
        "model = build_model(len(tokenizer.word_index) + 1,max_sequence_len, embedding_matrix)"
      ],
      "metadata": {
        "colab": {
          "base_uri": "https://localhost:8080/"
        },
        "id": "bR1Q41B9ut4P",
        "outputId": "31d76325-07f7-420c-8f53-381d84871ccf"
      },
      "execution_count": null,
      "outputs": [
        {
          "output_type": "stream",
          "name": "stdout",
          "text": [
            "Model: \"model_2\"\n",
            "__________________________________________________________________________________________________\n",
            " Layer (type)                Output Shape                 Param #   Connected to                  \n",
            "==================================================================================================\n",
            " encoder_inputs (InputLayer  [(None, None)]               0         []                            \n",
            " )                                                                                                \n",
            "                                                                                                  \n",
            " embedding_4 (Embedding)     (None, None, 100)            800700    ['encoder_inputs[0][0]']      \n",
            "                                                                                                  \n",
            " bidirectional_4 (Bidirecti  [(None, None, 256),          234496    ['embedding_4[0][0]']         \n",
            " onal)                        (None, 128),                                                        \n",
            "                              (None, 128),                                                        \n",
            "                              (None, 128),                                                        \n",
            "                              (None, 128)]                                                        \n",
            "                                                                                                  \n",
            " decoder_inputs (InputLayer  [(None, None)]               0         []                            \n",
            " )                                                                                                \n",
            "                                                                                                  \n",
            " bidirectional_5 (Bidirecti  [(None, None, 256),          394240    ['bidirectional_4[0][0]']     \n",
            " onal)                        (None, 128),                                                        \n",
            "                              (None, 128),                                                        \n",
            "                              (None, 128),                                                        \n",
            "                              (None, 128)]                                                        \n",
            "                                                                                                  \n",
            " embedding_5 (Embedding)     (None, None, 100)            800700    ['decoder_inputs[0][0]']      \n",
            "                                                                                                  \n",
            " concatenate_12 (Concatenat  (None, 256)                  0         ['bidirectional_5[0][1]',     \n",
            " e)                                                                  'bidirectional_5[0][3]']     \n",
            "                                                                                                  \n",
            " concatenate_13 (Concatenat  (None, 256)                  0         ['bidirectional_5[0][2]',     \n",
            " e)                                                                  'bidirectional_5[0][4]']     \n",
            "                                                                                                  \n",
            " lstm_8 (LSTM)               (None, None, 256)            365568    ['embedding_5[0][0]',         \n",
            "                                                                     'concatenate_12[0][0]',      \n",
            "                                                                     'concatenate_13[0][0]']      \n",
            "                                                                                                  \n",
            " attention_2 (Attention)     (None, None, 256)            0         ['lstm_8[0][0]',              \n",
            "                                                                     'bidirectional_5[0][0]']     \n",
            "                                                                                                  \n",
            " concatenate_14 (Concatenat  (None, None, 512)            0         ['lstm_8[0][0]',              \n",
            " e)                                                                  'attention_2[0][0]']         \n",
            "                                                                                                  \n",
            " layer_normalization_2 (Lay  (None, None, 512)            1024      ['concatenate_14[0][0]']      \n",
            " erNormalization)                                                                                 \n",
            "                                                                                                  \n",
            " time_distributed_2 (TimeDi  (None, None, 8007)           4107591   ['layer_normalization_2[0][0]'\n",
            " stributed)                                                         ]                             \n",
            "                                                                                                  \n",
            "==================================================================================================\n",
            "Total params: 6704319 (25.57 MB)\n",
            "Trainable params: 5102919 (19.47 MB)\n",
            "Non-trainable params: 1601400 (6.11 MB)\n",
            "__________________________________________________________________________________________________\n"
          ]
        }
      ]
    },
    {
      "cell_type": "code",
      "source": [
        "from nltk.translate.bleu_score import sentence_bleu"
      ],
      "metadata": {
        "id": "qnfUJ2BgfI_c"
      },
      "execution_count": null,
      "outputs": []
    },
    {
      "cell_type": "markdown",
      "source": [],
      "metadata": {
        "id": "VlhlpIjSVgUz"
      }
    },
    {
      "cell_type": "code",
      "source": [
        "class BLEUScoreCallback(Callback):\n",
        "    def __init__(self, tokenizer, encoder_input_train, decoder_target_train, encoder_input_val, decoder_target_val, max_len):\n",
        "        super().__init__()\n",
        "        self.tokenizer = tokenizer\n",
        "        self.encoder_input_train = encoder_input_train\n",
        "        self.decoder_target_train = decoder_target_train\n",
        "        self.encoder_input_val = encoder_input_val\n",
        "        self.decoder_target_val = decoder_target_val\n",
        "        self.max_len = max_len\n",
        "        self.start_token_index = tokenizer.word_index['<start>']\n",
        "        self.end_token_index = tokenizer.word_index['<end>']\n",
        "\n",
        "    def on_epoch_end(self, epoch, logs=None):\n",
        "        train_bleu = self.calculate_bleu(self.encoder_input_train, self.decoder_target_train, 'Train')\n",
        "        val_bleu = self.calculate_bleu(self.encoder_input_val, self.decoder_target_val, 'Validation')\n",
        "        print(f'Epoch {epoch + 1}: Train BLEU Score = {train_bleu:.4f}, Validation BLEU Score = {val_bleu:.4f}')\n",
        "\n",
        "    def calculate_bleu(self, encoder_input_data, decoder_target_data, data_type):\n",
        "        total_bleu_score = 0\n",
        "        num_samples = int(len(encoder_input_data)/10)\n",
        "        sample_indices = np.random.choice(len(encoder_input_data), num_samples, replace=False)\n",
        "\n",
        "        for idx in sample_indices:\n",
        "            input_seq = encoder_input_data[idx:idx+1]  # Process one sequence at a time\n",
        "            target_seq = [self.start_token_index]\n",
        "            output_sentence = []\n",
        "\n",
        "            for _ in range(self.max_len):\n",
        "                target_seq_array = np.array([target_seq])\n",
        "                predictions = self.model.predict([input_seq, target_seq_array])\n",
        "                sampled_token_index = np.argmax(predictions[0, -1, :])\n",
        "\n",
        "                if sampled_token_index == self.end_token_index:\n",
        "                    break\n",
        "                output_sentence.append(sampled_token_index)\n",
        "                target_seq.append(sampled_token_index)\n",
        "\n",
        "            # Convert sequences to text\n",
        "            reference = self.tokenizer.sequences_to_texts([decoder_target_data[idx]])\n",
        "            candidate = self.tokenizer.sequences_to_texts([output_sentence])\n",
        "            bleu_score = sentence_bleu([reference[0].split()], candidate[0].split())\n",
        "            total_bleu_score += bleu_score\n",
        "\n",
        "        average_bleu_score = total_bleu_score / num_samples\n",
        "        return average_bleu_score"
      ],
      "metadata": {
        "id": "xXu6oJ-jdPgc"
      },
      "execution_count": null,
      "outputs": []
    },
    {
      "cell_type": "code",
      "source": [
        "#bleu_callback = BLEUScoreCallback(tokenizer, train_encoder_input, train_decoder_target, val_encoder_input, val_decoder_target, max_sequence_len)\n",
        "model_history = model.fit(train_dataset, epochs=5,validation_data = val_dataset,verbose=1,callbacks=[EarlyStopping(monitor='val_loss', patience=3, restore_best_weights=True)])"
      ],
      "metadata": {
        "colab": {
          "base_uri": "https://localhost:8080/"
        },
        "id": "QD_2nswjvvE4",
        "outputId": "379484fa-c5fc-496b-dba6-f73db8f2887c"
      },
      "execution_count": null,
      "outputs": [
        {
          "output_type": "stream",
          "name": "stdout",
          "text": [
            "Epoch 1/5\n",
            "55/55 [==============================] - 36s 522ms/step - loss: 0.8649 - accuracy: 0.9621 - val_loss: 0.1278 - val_accuracy: 0.9810\n",
            "Epoch 2/5\n",
            "55/55 [==============================] - 27s 491ms/step - loss: 0.1266 - accuracy: 0.9808 - val_loss: 0.1234 - val_accuracy: 0.9822\n",
            "Epoch 3/5\n",
            "55/55 [==============================] - 27s 491ms/step - loss: 0.1250 - accuracy: 0.9812 - val_loss: 0.1170 - val_accuracy: 0.9824\n",
            "Epoch 4/5\n",
            "55/55 [==============================] - 27s 492ms/step - loss: 0.1186 - accuracy: 0.9817 - val_loss: 0.1149 - val_accuracy: 0.9826\n",
            "Epoch 5/5\n",
            "55/55 [==============================] - 27s 492ms/step - loss: 0.1162 - accuracy: 0.9819 - val_loss: 0.1134 - val_accuracy: 0.9829\n"
          ]
        }
      ]
    },
    {
      "cell_type": "code",
      "source": [
        "# prompt: write a code to save the model weights in the drive\n",
        "\n",
        "model.save_weights('/content/drive/MyDrive/model_glove_bilstm_weights.h5')\n"
      ],
      "metadata": {
        "id": "pjTRVcbTwX0-"
      },
      "execution_count": null,
      "outputs": []
    },
    {
      "cell_type": "code",
      "source": [],
      "metadata": {
        "id": "1soWw_r-8zwL"
      },
      "execution_count": null,
      "outputs": []
    },
    {
      "cell_type": "code",
      "source": [
        "import matplotlib.pyplot as plt\n",
        "\n",
        "plt.figure(figsize=(12, 4))\n",
        "plt.subplot(1, 1, 1)\n",
        "plt.plot(model_history.history['loss'], label='Training Loss')\n",
        "plt.plot(model_history.history['val_loss'], label='Validation Loss')\n",
        "plt.legend()\n",
        "plt.title('Loss Over Epochs')\n",
        "\n",
        "# plt.subplot(1, 2, 2)\n",
        "# plt.plot(model_history.history['accuracy'], label='Training Accuracy')  # Change 'accuracy' as per your metrics\n",
        "# plt.plot(model_history.history['val_accuracy'], label='Validation Accuracy')\n",
        "# plt.legend()\n",
        "# plt.title('Accuracy Over Epochs')\n",
        "\n",
        "# plt.show()\n"
      ],
      "metadata": {
        "id": "DV20UacbTRJA",
        "outputId": "bd5506b5-5839-4c80-a490-1f9b50001346",
        "colab": {
          "base_uri": "https://localhost:8080/",
          "height": 408
        }
      },
      "execution_count": null,
      "outputs": [
        {
          "output_type": "execute_result",
          "data": {
            "text/plain": [
              "Text(0.5, 1.0, 'Loss Over Epochs')"
            ]
          },
          "metadata": {},
          "execution_count": 39
        },
        {
          "output_type": "display_data",
          "data": {
            "text/plain": [
              "<Figure size 1200x400 with 1 Axes>"
            ],
            "image/png": "[encoded data removed]"
          },
          "metadata": {}
        }
      ]
    },
    {
      "cell_type": "code",
      "source": [
        "import time"
      ],
      "metadata": {
        "id": "zfseckq1CU9q"
      },
      "execution_count": null,
      "outputs": []
    },
    {
      "cell_type": "code",
      "source": [
        "#evaluate the test dataset"
      ],
      "metadata": {
        "id": "Wvikcl52YPi7"
      },
      "execution_count": null,
      "outputs": []
    },
    {
      "cell_type": "code",
      "source": [
        "def generate_responses_and_evaluate_bleu(model, tokenizer, encoder_input_data, decoder_target_data, max_len, start_token_index, end_token_index):\n",
        "    total_bleu_score = 0\n",
        "    num_samples = int(len(encoder_input_data)/100)  # Use the entire dataset\n",
        "    sample_indices = np.random.choice(len(encoder_input_data), num_samples, replace=False)\n",
        "\n",
        "    total_time = 0\n",
        "    response_times = []\n",
        "\n",
        "\n",
        "\n",
        "    all_inputs = []\n",
        "    all_references = []\n",
        "    all_candidates = []\n",
        "\n",
        "    for idx in sample_indices:\n",
        "        input_seq = encoder_input_data[idx:idx+1]  # Extract one sequence for further processing\n",
        "        input_text = tokenizer.sequences_to_texts(input_seq)[0]  # Convert the extracted sequence to text\n",
        "        target_seq = [start_token_index]\n",
        "        output_sentence = []\n",
        "\n",
        "        start_time = time.time()\n",
        "        print(\"sentence_started: \",input_text)\n",
        "        print(input_text)\n",
        "        print(\"Harry: \",end = ' ')\n",
        "        for _ in range(max_len):\n",
        "            target_seq_array = np.array([target_seq])\n",
        "            predictions = model.predict([input_seq, target_seq_array],verbose = 0)\n",
        "            sampled_token_index = np.argmax(predictions[0, -1, :])\n",
        "\n",
        "            if sampled_token_index == end_token_index or len(target_seq) == max_len:\n",
        "                break\n",
        "            sampled_word = tokenizer.index_word[sampled_token_index] if sampled_token_index in tokenizer.index_word else ''\n",
        "            print(sampled_word,end = ' ')  # Print each predicted word\n",
        "            output_sentence.append(sampled_token_index)\n",
        "            target_seq.append(sampled_token_index)\n",
        "\n",
        "        print()\n",
        "\n",
        "        elapsed_time = time.time() - start_time\n",
        "        total_time += elapsed_time\n",
        "        response_times.append(elapsed_time)\n",
        "        print(\"time elapsed: \",elapsed_time)\n",
        "\n",
        "        # Convert sequences to text\n",
        "        reference = tokenizer.sequences_to_texts([decoder_target_data[idx]])\n",
        "        candidate = tokenizer.sequences_to_texts([output_sentence])\n",
        "\n",
        "        all_inputs.append(input_text[0].split())\n",
        "        all_references.append(reference[0].split())\n",
        "        all_candidates.append(candidate[0].split())\n",
        "\n",
        "        # Calculate individual BLEU score\n",
        "        bleu_score = sentence_bleu([reference[0].split()], candidate[0].split())\n",
        "        total_bleu_score += bleu_score\n",
        "\n",
        "        # print(\"Input Sentence:\", input_text)\n",
        "        # print(\"Model Output:\", candidate)\n",
        "        # print(\"Reference Sentence:\", reference)\n",
        "        # print(\"---\" * 10)  # Separator for readability\n",
        "        print(\"sentence_finished\")\n",
        "\n",
        "\n",
        "    average_bleu_score = total_bleu_score / num_samples\n",
        "    average_response_time = sum(response_times) / num_samples\n",
        "\n",
        "    return all_inputs,all_references,all_candidates,response_times,average_bleu_score,average_response_time\n"
      ],
      "metadata": {
        "id": "jsQBnqh69txy"
      },
      "execution_count": null,
      "outputs": []
    },
    {
      "cell_type": "code",
      "source": [
        "test_data = load_data('/content/drive/My Drive/en_test_set.json')\n",
        "encoder_input_data, decoder_input_data, decoder_target_data, max_len = preprocess_data_inference(test_data,tokenizer)"
      ],
      "metadata": {
        "id": "Yp9KwFVKYfM5"
      },
      "execution_count": null,
      "outputs": []
    },
    {
      "cell_type": "code",
      "source": [
        "def generate_responses(model, tokenizer, encoder_input_data, max_len, start_token_index, end_token_index):\n",
        "    num_samples = len(encoder_input_data)# Reduce the dataset for quicker response times\n",
        "    sample_indices = np.random.choice(len(encoder_input_data), num_samples, replace=False)\n",
        "\n",
        "    total_time = 0\n",
        "    response_times = []\n",
        "\n",
        "    for idx in sample_indices:\n",
        "        input_seq = encoder_input_data[idx:idx+1]  # Extract one sequence for further processing\n",
        "        input_text = tokenizer.sequences_to_texts(input_seq)[0]  # Convert the extracted sequence to text\n",
        "\n",
        "        print(\"Input: \", input_text)\n",
        "        print(\"Harry: \", end=' ')\n",
        "\n",
        "        target_seq = [start_token_index]\n",
        "        output_sentence = []\n",
        "\n",
        "        start_time = time.time()\n",
        "\n",
        "        while len(target_seq) < max_len:\n",
        "            target_seq_array = np.array([target_seq])\n",
        "            predictions = model.predict([input_seq, target_seq_array], verbose=0)\n",
        "            sampled_token_index = np.argmax(predictions[0, -1, :])\n",
        "\n",
        "            if sampled_token_index == end_token_index or len(target_seq) == max_len:\n",
        "                break\n",
        "\n",
        "            sampled_word = tokenizer.index_word.get(sampled_token_index, '')\n",
        "            print(sampled_word, end=' ')  # Print each predicted word on the same line\n",
        "            output_sentence.append(sampled_token_index)\n",
        "            target_seq.append(sampled_token_index)\n",
        "\n",
        "        print()  # New line after the end of response\n",
        "\n",
        "        elapsed_time = time.time() - start_time\n",
        "        total_time += elapsed_time\n",
        "        response_times.append(elapsed_time)\n",
        "\n",
        "        print(\"Time elapsed for response: {:.4f} seconds\".format(elapsed_time))\n",
        "        print(\"---\" * 20)  # Separator for readability\n",
        "\n",
        "    average_response_time = total_time / num_samples\n",
        "\n",
        "    return average_response_time, num_samples\n"
      ],
      "metadata": {
        "id": "ylTkuECQXwHl"
      },
      "execution_count": null,
      "outputs": []
    },
    {
      "cell_type": "code",
      "source": [
        "# Usage example\n",
        "average_response_time, num_samples = generate_responses(\n",
        "    model, tokenizer, encoder_input_data, 100,\n",
        "    tokenizer.word_index['<start>'], tokenizer.word_index['<end>']\n",
        ")\n",
        "print(\"Processed {} sentences with an average response time of {:.4f} seconds.\".format(num_samples, average_response_time))"
      ],
      "metadata": {
        "id": "y7x5QyujX_DJ",
        "outputId": "e5c0e9dc-f930-4922-842c-ad0d3d7a4530",
        "colab": {
          "base_uri": "https://localhost:8080/",
          "height": 867
        }
      },
      "execution_count": null,
      "outputs": [
        {
          "output_type": "stream",
          "name": "stdout",
          "text": [
            "Input:  are you all right you look awful\n",
            "Harry:  i end                                                                                                  \n",
            "Time elapsed for response: 10.9827 seconds\n",
            "------------------------------------------------------------\n",
            "Input:  nah that just one of those things you tell kids to teach them lessons isn’t it ‘don’t go looking for trouble don’t pick fights don’t go messing around with stuff that’s best left alone just keep your head down mind your own business and you’ll be okay ’ come to think of it maybe that why elder wands are supposed to be unlucky\n",
            "Harry:  i end                                                                                                  \n",
            "Time elapsed for response: 7.3497 seconds\n",
            "------------------------------------------------------------\n",
            "Input:  good afternoon\n",
            "Harry:  i end                                                                                                  \n",
            "Time elapsed for response: 7.3134 seconds\n",
            "------------------------------------------------------------\n",
            "Input:  merry christmas\n",
            "Harry:  i end                                                                                                  \n",
            "Time elapsed for response: 7.3315 seconds\n",
            "------------------------------------------------------------\n",
            "Input:  you were yelling your head off\n",
            "Harry:  i end                                                                                                  \n",
            "Time elapsed for response: 7.2997 seconds\n",
            "------------------------------------------------------------\n",
            "Input:  stan shunpike\n",
            "Harry:  i end                                                                                                  \n",
            "Time elapsed for response: 7.2816 seconds\n",
            "------------------------------------------------------------\n",
            "Input:  i think that if you choose to return there is a chance that he may be finished for good i cannot promise it but i know this harry that you have less to fear from returning here than he does harry pity the living and above all those who live without love by returning you may ensure that souls are maimed families are torn apart if that seems to you a worthy goal then we say good bye for the present\n",
            "Harry:  i end                                                 "
          ]
        },
        {
          "output_type": "error",
          "ename": "KeyboardInterrupt",
          "evalue": "",
          "traceback": [
            "\u001b[0;31m---------------------------------------------------------------------------\u001b[0m",
            "\u001b[0;31mKeyboardInterrupt\u001b[0m                         Traceback (most recent call last)",
            "\u001b[0;32m<ipython-input-42-913413c046b4>\u001b[0m in \u001b[0;36m<cell line: 2>\u001b[0;34m()\u001b[0m\n\u001b[1;32m      1\u001b[0m \u001b[0;31m# Usage example\u001b[0m\u001b[0;34m\u001b[0m\u001b[0;34m\u001b[0m\u001b[0m\n\u001b[0;32m----> 2\u001b[0;31m average_response_time, num_samples = generate_responses(\n\u001b[0m\u001b[1;32m      3\u001b[0m     \u001b[0mmodel\u001b[0m\u001b[0;34m,\u001b[0m \u001b[0mtokenizer\u001b[0m\u001b[0;34m,\u001b[0m \u001b[0mencoder_input_data\u001b[0m\u001b[0;34m,\u001b[0m \u001b[0;36m100\u001b[0m\u001b[0;34m,\u001b[0m\u001b[0;34m\u001b[0m\u001b[0;34m\u001b[0m\u001b[0m\n\u001b[1;32m      4\u001b[0m     \u001b[0mtokenizer\u001b[0m\u001b[0;34m.\u001b[0m\u001b[0mword_index\u001b[0m\u001b[0;34m[\u001b[0m\u001b[0;34m'<start>'\u001b[0m\u001b[0;34m]\u001b[0m\u001b[0;34m,\u001b[0m \u001b[0mtokenizer\u001b[0m\u001b[0;34m.\u001b[0m\u001b[0mword_index\u001b[0m\u001b[0;34m[\u001b[0m\u001b[0;34m'<end>'\u001b[0m\u001b[0;34m]\u001b[0m\u001b[0;34m\u001b[0m\u001b[0;34m\u001b[0m\u001b[0m\n\u001b[1;32m      5\u001b[0m )\n",
            "\u001b[0;32m<ipython-input-41-268f67212800>\u001b[0m in \u001b[0;36mgenerate_responses\u001b[0;34m(model, tokenizer, encoder_input_data, max_len, start_token_index, end_token_index)\u001b[0m\n\u001b[1;32m     20\u001b[0m         \u001b[0;32mwhile\u001b[0m \u001b[0mlen\u001b[0m\u001b[0;34m(\u001b[0m\u001b[0mtarget_seq\u001b[0m\u001b[0;34m)\u001b[0m \u001b[0;34m<\u001b[0m \u001b[0mmax_len\u001b[0m\u001b[0;34m:\u001b[0m\u001b[0;34m\u001b[0m\u001b[0;34m\u001b[0m\u001b[0m\n\u001b[1;32m     21\u001b[0m             \u001b[0mtarget_seq_array\u001b[0m \u001b[0;34m=\u001b[0m \u001b[0mnp\u001b[0m\u001b[0;34m.\u001b[0m\u001b[0marray\u001b[0m\u001b[0;34m(\u001b[0m\u001b[0;34m[\u001b[0m\u001b[0mtarget_seq\u001b[0m\u001b[0;34m]\u001b[0m\u001b[0;34m)\u001b[0m\u001b[0;34m\u001b[0m\u001b[0;34m\u001b[0m\u001b[0m\n\u001b[0;32m---> 22\u001b[0;31m             \u001b[0mpredictions\u001b[0m \u001b[0;34m=\u001b[0m \u001b[0mmodel\u001b[0m\u001b[0;34m.\u001b[0m\u001b[0mpredict\u001b[0m\u001b[0;34m(\u001b[0m\u001b[0;34m[\u001b[0m\u001b[0minput_seq\u001b[0m\u001b[0;34m,\u001b[0m \u001b[0mtarget_seq_array\u001b[0m\u001b[0;34m]\u001b[0m\u001b[0;34m,\u001b[0m \u001b[0mverbose\u001b[0m\u001b[0;34m=\u001b[0m\u001b[0;36m0\u001b[0m\u001b[0;34m)\u001b[0m\u001b[0;34m\u001b[0m\u001b[0;34m\u001b[0m\u001b[0m\n\u001b[0m\u001b[1;32m     23\u001b[0m             \u001b[0msampled_token_index\u001b[0m \u001b[0;34m=\u001b[0m \u001b[0mnp\u001b[0m\u001b[0;34m.\u001b[0m\u001b[0margmax\u001b[0m\u001b[0;34m(\u001b[0m\u001b[0mpredictions\u001b[0m\u001b[0;34m[\u001b[0m\u001b[0;36m0\u001b[0m\u001b[0;34m,\u001b[0m \u001b[0;34m-\u001b[0m\u001b[0;36m1\u001b[0m\u001b[0;34m,\u001b[0m \u001b[0;34m:\u001b[0m\u001b[0;34m]\u001b[0m\u001b[0;34m)\u001b[0m\u001b[0;34m\u001b[0m\u001b[0;34m\u001b[0m\u001b[0m\n\u001b[1;32m     24\u001b[0m \u001b[0;34m\u001b[0m\u001b[0m\n",
            "\u001b[0;32m/usr/local/lib/python3.10/dist-packages/keras/src/utils/traceback_utils.py\u001b[0m in \u001b[0;36merror_handler\u001b[0;34m(*args, **kwargs)\u001b[0m\n\u001b[1;32m     63\u001b[0m         \u001b[0mfiltered_tb\u001b[0m \u001b[0;34m=\u001b[0m \u001b[0;32mNone\u001b[0m\u001b[0;34m\u001b[0m\u001b[0;34m\u001b[0m\u001b[0m\n\u001b[1;32m     64\u001b[0m         \u001b[0;32mtry\u001b[0m\u001b[0;34m:\u001b[0m\u001b[0;34m\u001b[0m\u001b[0;34m\u001b[0m\u001b[0m\n\u001b[0;32m---> 65\u001b[0;31m             \u001b[0;32mreturn\u001b[0m \u001b[0mfn\u001b[0m\u001b[0;34m(\u001b[0m\u001b[0;34m*\u001b[0m\u001b[0margs\u001b[0m\u001b[0;34m,\u001b[0m \u001b[0;34m**\u001b[0m\u001b[0mkwargs\u001b[0m\u001b[0;34m)\u001b[0m\u001b[0;34m\u001b[0m\u001b[0;34m\u001b[0m\u001b[0m\n\u001b[0m\u001b[1;32m     66\u001b[0m         \u001b[0;32mexcept\u001b[0m \u001b[0mException\u001b[0m \u001b[0;32mas\u001b[0m \u001b[0me\u001b[0m\u001b[0;34m:\u001b[0m\u001b[0;34m\u001b[0m\u001b[0;34m\u001b[0m\u001b[0m\n\u001b[1;32m     67\u001b[0m             \u001b[0mfiltered_tb\u001b[0m \u001b[0;34m=\u001b[0m \u001b[0m_process_traceback_frames\u001b[0m\u001b[0;34m(\u001b[0m\u001b[0me\u001b[0m\u001b[0;34m.\u001b[0m\u001b[0m__traceback__\u001b[0m\u001b[0;34m)\u001b[0m\u001b[0;34m\u001b[0m\u001b[0;34m\u001b[0m\u001b[0m\n",
            "\u001b[0;32m/usr/local/lib/python3.10/dist-packages/keras/src/engine/training.py\u001b[0m in \u001b[0;36mpredict\u001b[0;34m(self, x, batch_size, verbose, steps, callbacks, max_queue_size, workers, use_multiprocessing)\u001b[0m\n\u001b[1;32m   2649\u001b[0m                 \u001b[0mself\u001b[0m\u001b[0;34m.\u001b[0m\u001b[0m_steps_per_execution_tuner\u001b[0m\u001b[0;34m.\u001b[0m\u001b[0mstart\u001b[0m\u001b[0;34m(\u001b[0m\u001b[0;34m)\u001b[0m\u001b[0;34m\u001b[0m\u001b[0;34m\u001b[0m\u001b[0m\n\u001b[1;32m   2650\u001b[0m             \u001b[0mbatch_outputs\u001b[0m \u001b[0;34m=\u001b[0m \u001b[0;32mNone\u001b[0m\u001b[0;34m\u001b[0m\u001b[0;34m\u001b[0m\u001b[0m\n\u001b[0;32m-> 2651\u001b[0;31m             \u001b[0;32mfor\u001b[0m \u001b[0m_\u001b[0m\u001b[0;34m,\u001b[0m \u001b[0miterator\u001b[0m \u001b[0;32min\u001b[0m \u001b[0mdata_handler\u001b[0m\u001b[0;34m.\u001b[0m\u001b[0menumerate_epochs\u001b[0m\u001b[0;34m(\u001b[0m\u001b[0;34m)\u001b[0m\u001b[0;34m:\u001b[0m  \u001b[0;31m# Single epoch.\u001b[0m\u001b[0;34m\u001b[0m\u001b[0;34m\u001b[0m\u001b[0m\n\u001b[0m\u001b[1;32m   2652\u001b[0m                 \u001b[0;32mwith\u001b[0m \u001b[0mdata_handler\u001b[0m\u001b[0;34m.\u001b[0m\u001b[0mcatch_stop_iteration\u001b[0m\u001b[0;34m(\u001b[0m\u001b[0;34m)\u001b[0m\u001b[0;34m:\u001b[0m\u001b[0;34m\u001b[0m\u001b[0;34m\u001b[0m\u001b[0m\n\u001b[1;32m   2653\u001b[0m                     \u001b[0;32mfor\u001b[0m \u001b[0mstep\u001b[0m \u001b[0;32min\u001b[0m \u001b[0mdata_handler\u001b[0m\u001b[0;34m.\u001b[0m\u001b[0msteps\u001b[0m\u001b[0;34m(\u001b[0m\u001b[0;34m)\u001b[0m\u001b[0;34m:\u001b[0m\u001b[0;34m\u001b[0m\u001b[0;34m\u001b[0m\u001b[0m\n",
            "\u001b[0;32m/usr/local/lib/python3.10/dist-packages/keras/src/engine/data_adapter.py\u001b[0m in \u001b[0;36menumerate_epochs\u001b[0;34m(self)\u001b[0m\n\u001b[1;32m   1338\u001b[0m     \u001b[0;32mdef\u001b[0m \u001b[0menumerate_epochs\u001b[0m\u001b[0;34m(\u001b[0m\u001b[0mself\u001b[0m\u001b[0;34m)\u001b[0m\u001b[0;34m:\u001b[0m\u001b[0;34m\u001b[0m\u001b[0;34m\u001b[0m\u001b[0m\n\u001b[1;32m   1339\u001b[0m         \u001b[0;34m\"\"\"Yields `(epoch, tf.data.Iterator)`.\"\"\"\u001b[0m\u001b[0;34m\u001b[0m\u001b[0;34m\u001b[0m\u001b[0m\n\u001b[0;32m-> 1340\u001b[0;31m         \u001b[0;32mwith\u001b[0m \u001b[0mself\u001b[0m\u001b[0;34m.\u001b[0m\u001b[0m_truncate_execution_to_epoch\u001b[0m\u001b[0;34m(\u001b[0m\u001b[0;34m)\u001b[0m\u001b[0;34m:\u001b[0m\u001b[0;34m\u001b[0m\u001b[0;34m\u001b[0m\u001b[0m\n\u001b[0m\u001b[1;32m   1341\u001b[0m             \u001b[0mdata_iterator\u001b[0m \u001b[0;34m=\u001b[0m \u001b[0miter\u001b[0m\u001b[0;34m(\u001b[0m\u001b[0mself\u001b[0m\u001b[0;34m.\u001b[0m\u001b[0m_dataset\u001b[0m\u001b[0;34m)\u001b[0m\u001b[0;34m\u001b[0m\u001b[0;34m\u001b[0m\u001b[0m\n\u001b[1;32m   1342\u001b[0m             \u001b[0;32mfor\u001b[0m \u001b[0mepoch\u001b[0m \u001b[0;32min\u001b[0m \u001b[0mrange\u001b[0m\u001b[0;34m(\u001b[0m\u001b[0mself\u001b[0m\u001b[0;34m.\u001b[0m\u001b[0m_initial_epoch\u001b[0m\u001b[0;34m,\u001b[0m \u001b[0mself\u001b[0m\u001b[0;34m.\u001b[0m\u001b[0m_epochs\u001b[0m\u001b[0;34m)\u001b[0m\u001b[0;34m:\u001b[0m\u001b[0;34m\u001b[0m\u001b[0;34m\u001b[0m\u001b[0m\n",
            "\u001b[0;32m/usr/lib/python3.10/contextlib.py\u001b[0m in \u001b[0;36m__enter__\u001b[0;34m(self)\u001b[0m\n\u001b[1;32m    133\u001b[0m         \u001b[0;32mdel\u001b[0m \u001b[0mself\u001b[0m\u001b[0;34m.\u001b[0m\u001b[0margs\u001b[0m\u001b[0;34m,\u001b[0m \u001b[0mself\u001b[0m\u001b[0;34m.\u001b[0m\u001b[0mkwds\u001b[0m\u001b[0;34m,\u001b[0m \u001b[0mself\u001b[0m\u001b[0;34m.\u001b[0m\u001b[0mfunc\u001b[0m\u001b[0;34m\u001b[0m\u001b[0;34m\u001b[0m\u001b[0m\n\u001b[1;32m    134\u001b[0m         \u001b[0;32mtry\u001b[0m\u001b[0;34m:\u001b[0m\u001b[0;34m\u001b[0m\u001b[0;34m\u001b[0m\u001b[0m\n\u001b[0;32m--> 135\u001b[0;31m             \u001b[0;32mreturn\u001b[0m \u001b[0mnext\u001b[0m\u001b[0;34m(\u001b[0m\u001b[0mself\u001b[0m\u001b[0;34m.\u001b[0m\u001b[0mgen\u001b[0m\u001b[0;34m)\u001b[0m\u001b[0;34m\u001b[0m\u001b[0;34m\u001b[0m\u001b[0m\n\u001b[0m\u001b[1;32m    136\u001b[0m         \u001b[0;32mexcept\u001b[0m \u001b[0mStopIteration\u001b[0m\u001b[0;34m:\u001b[0m\u001b[0;34m\u001b[0m\u001b[0;34m\u001b[0m\u001b[0m\n\u001b[1;32m    137\u001b[0m             \u001b[0;32mraise\u001b[0m \u001b[0mRuntimeError\u001b[0m\u001b[0;34m(\u001b[0m\u001b[0;34m\"generator didn't yield\"\u001b[0m\u001b[0;34m)\u001b[0m \u001b[0;32mfrom\u001b[0m \u001b[0;32mNone\u001b[0m\u001b[0;34m\u001b[0m\u001b[0;34m\u001b[0m\u001b[0m\n",
            "\u001b[0;32m/usr/local/lib/python3.10/dist-packages/keras/src/engine/data_adapter.py\u001b[0m in \u001b[0;36m_truncate_execution_to_epoch\u001b[0;34m(self)\u001b[0m\n\u001b[1;32m   1359\u001b[0m         should_truncate = (\n\u001b[1;32m   1360\u001b[0m             \u001b[0mself\u001b[0m\u001b[0;34m.\u001b[0m\u001b[0m_inferred_steps\u001b[0m \u001b[0;32mis\u001b[0m \u001b[0;32mnot\u001b[0m \u001b[0;32mNone\u001b[0m\u001b[0;34m\u001b[0m\u001b[0;34m\u001b[0m\u001b[0m\n\u001b[0;32m-> 1361\u001b[0;31m             \u001b[0;32mand\u001b[0m \u001b[0mself\u001b[0m\u001b[0;34m.\u001b[0m\u001b[0m_steps_per_execution\u001b[0m\u001b[0;34m.\u001b[0m\u001b[0mnumpy\u001b[0m\u001b[0;34m(\u001b[0m\u001b[0;34m)\u001b[0m\u001b[0;34m.\u001b[0m\u001b[0mitem\u001b[0m\u001b[0;34m(\u001b[0m\u001b[0;34m)\u001b[0m \u001b[0;34m>\u001b[0m \u001b[0mself\u001b[0m\u001b[0;34m.\u001b[0m\u001b[0m_inferred_steps\u001b[0m\u001b[0;34m\u001b[0m\u001b[0;34m\u001b[0m\u001b[0m\n\u001b[0m\u001b[1;32m   1362\u001b[0m         )\n\u001b[1;32m   1363\u001b[0m         \u001b[0moriginal_value\u001b[0m \u001b[0;34m=\u001b[0m \u001b[0mself\u001b[0m\u001b[0;34m.\u001b[0m\u001b[0m_steps_per_execution\u001b[0m\u001b[0;34m.\u001b[0m\u001b[0mnumpy\u001b[0m\u001b[0;34m(\u001b[0m\u001b[0;34m)\u001b[0m\u001b[0;34m.\u001b[0m\u001b[0mitem\u001b[0m\u001b[0;34m(\u001b[0m\u001b[0;34m)\u001b[0m\u001b[0;34m\u001b[0m\u001b[0;34m\u001b[0m\u001b[0m\n",
            "\u001b[0;32m/usr/local/lib/python3.10/dist-packages/tensorflow/python/ops/resource_variable_ops.py\u001b[0m in \u001b[0;36mnumpy\u001b[0;34m(self)\u001b[0m\n\u001b[1;32m    687\u001b[0m   \u001b[0;32mdef\u001b[0m \u001b[0mnumpy\u001b[0m\u001b[0;34m(\u001b[0m\u001b[0mself\u001b[0m\u001b[0;34m)\u001b[0m\u001b[0;34m:\u001b[0m\u001b[0;34m\u001b[0m\u001b[0;34m\u001b[0m\u001b[0m\n\u001b[1;32m    688\u001b[0m     \u001b[0;32mif\u001b[0m \u001b[0mcontext\u001b[0m\u001b[0;34m.\u001b[0m\u001b[0mexecuting_eagerly\u001b[0m\u001b[0;34m(\u001b[0m\u001b[0;34m)\u001b[0m\u001b[0;34m:\u001b[0m\u001b[0;34m\u001b[0m\u001b[0;34m\u001b[0m\u001b[0m\n\u001b[0;32m--> 689\u001b[0;31m       \u001b[0;32mreturn\u001b[0m \u001b[0mself\u001b[0m\u001b[0;34m.\u001b[0m\u001b[0mread_value\u001b[0m\u001b[0;34m(\u001b[0m\u001b[0;34m)\u001b[0m\u001b[0;34m.\u001b[0m\u001b[0mnumpy\u001b[0m\u001b[0;34m(\u001b[0m\u001b[0;34m)\u001b[0m\u001b[0;34m\u001b[0m\u001b[0;34m\u001b[0m\u001b[0m\n\u001b[0m\u001b[1;32m    690\u001b[0m     raise NotImplementedError(\n\u001b[1;32m    691\u001b[0m         \"numpy() is only available when eager execution is enabled.\")\n",
            "\u001b[0;32m/usr/local/lib/python3.10/dist-packages/tensorflow/python/ops/resource_variable_ops.py\u001b[0m in \u001b[0;36mread_value\u001b[0;34m(self)\u001b[0m\n\u001b[1;32m    837\u001b[0m     \"\"\"\n\u001b[1;32m    838\u001b[0m     \u001b[0;32mwith\u001b[0m \u001b[0mops\u001b[0m\u001b[0;34m.\u001b[0m\u001b[0mname_scope\u001b[0m\u001b[0;34m(\u001b[0m\u001b[0;34m\"Read\"\u001b[0m\u001b[0;34m)\u001b[0m\u001b[0;34m:\u001b[0m\u001b[0;34m\u001b[0m\u001b[0;34m\u001b[0m\u001b[0m\n\u001b[0;32m--> 839\u001b[0;31m       \u001b[0mvalue\u001b[0m \u001b[0;34m=\u001b[0m \u001b[0mself\u001b[0m\u001b[0;34m.\u001b[0m\u001b[0m_read_variable_op\u001b[0m\u001b[0;34m(\u001b[0m\u001b[0;34m)\u001b[0m\u001b[0;34m\u001b[0m\u001b[0;34m\u001b[0m\u001b[0m\n\u001b[0m\u001b[1;32m    840\u001b[0m     \u001b[0;31m# Return an identity so it can get placed on whatever device the context\u001b[0m\u001b[0;34m\u001b[0m\u001b[0;34m\u001b[0m\u001b[0m\n\u001b[1;32m    841\u001b[0m     \u001b[0;31m# specifies instead of the device where the variable is.\u001b[0m\u001b[0;34m\u001b[0m\u001b[0;34m\u001b[0m\u001b[0m\n",
            "\u001b[0;32m/usr/local/lib/python3.10/dist-packages/tensorflow/python/ops/resource_variable_ops.py\u001b[0m in \u001b[0;36m_read_variable_op\u001b[0;34m(self, no_copy)\u001b[0m\n\u001b[1;32m    816\u001b[0m           \u001b[0mresult\u001b[0m \u001b[0;34m=\u001b[0m \u001b[0mread_and_set_handle\u001b[0m\u001b[0;34m(\u001b[0m\u001b[0mno_copy\u001b[0m\u001b[0;34m)\u001b[0m\u001b[0;34m\u001b[0m\u001b[0;34m\u001b[0m\u001b[0m\n\u001b[1;32m    817\u001b[0m     \u001b[0;32melse\u001b[0m\u001b[0;34m:\u001b[0m\u001b[0;34m\u001b[0m\u001b[0;34m\u001b[0m\u001b[0m\n\u001b[0;32m--> 818\u001b[0;31m       \u001b[0mresult\u001b[0m \u001b[0;34m=\u001b[0m \u001b[0mread_and_set_handle\u001b[0m\u001b[0;34m(\u001b[0m\u001b[0mno_copy\u001b[0m\u001b[0;34m)\u001b[0m\u001b[0;34m\u001b[0m\u001b[0;34m\u001b[0m\u001b[0m\n\u001b[0m\u001b[1;32m    819\u001b[0m \u001b[0;34m\u001b[0m\u001b[0m\n\u001b[1;32m    820\u001b[0m     \u001b[0;32mif\u001b[0m \u001b[0;32mnot\u001b[0m \u001b[0mcontext\u001b[0m\u001b[0;34m.\u001b[0m\u001b[0mexecuting_eagerly\u001b[0m\u001b[0;34m(\u001b[0m\u001b[0;34m)\u001b[0m\u001b[0;34m:\u001b[0m\u001b[0;34m\u001b[0m\u001b[0;34m\u001b[0m\u001b[0m\n",
            "\u001b[0;32m/usr/local/lib/python3.10/dist-packages/tensorflow/python/ops/resource_variable_ops.py\u001b[0m in \u001b[0;36mread_and_set_handle\u001b[0;34m(no_copy)\u001b[0m\n\u001b[1;32m    806\u001b[0m       \u001b[0;32mif\u001b[0m \u001b[0mno_copy\u001b[0m \u001b[0;32mand\u001b[0m \u001b[0mforward_compat\u001b[0m\u001b[0;34m.\u001b[0m\u001b[0mforward_compatible\u001b[0m\u001b[0;34m(\u001b[0m\u001b[0;36m2022\u001b[0m\u001b[0;34m,\u001b[0m \u001b[0;36m5\u001b[0m\u001b[0;34m,\u001b[0m \u001b[0;36m3\u001b[0m\u001b[0;34m)\u001b[0m\u001b[0;34m:\u001b[0m\u001b[0;34m\u001b[0m\u001b[0;34m\u001b[0m\u001b[0m\n\u001b[1;32m    807\u001b[0m         \u001b[0mgen_resource_variable_ops\u001b[0m\u001b[0;34m.\u001b[0m\u001b[0mdisable_copy_on_read\u001b[0m\u001b[0;34m(\u001b[0m\u001b[0mself\u001b[0m\u001b[0;34m.\u001b[0m\u001b[0mhandle\u001b[0m\u001b[0;34m)\u001b[0m\u001b[0;34m\u001b[0m\u001b[0;34m\u001b[0m\u001b[0m\n\u001b[0;32m--> 808\u001b[0;31m       result = gen_resource_variable_ops.read_variable_op(\n\u001b[0m\u001b[1;32m    809\u001b[0m           self.handle, self._dtype)\n\u001b[1;32m    810\u001b[0m       \u001b[0m_maybe_set_handle_data\u001b[0m\u001b[0;34m(\u001b[0m\u001b[0mself\u001b[0m\u001b[0;34m.\u001b[0m\u001b[0m_dtype\u001b[0m\u001b[0;34m,\u001b[0m \u001b[0mself\u001b[0m\u001b[0;34m.\u001b[0m\u001b[0mhandle\u001b[0m\u001b[0;34m,\u001b[0m \u001b[0mresult\u001b[0m\u001b[0;34m)\u001b[0m\u001b[0;34m\u001b[0m\u001b[0;34m\u001b[0m\u001b[0m\n",
            "\u001b[0;32m/usr/local/lib/python3.10/dist-packages/tensorflow/python/ops/gen_resource_variable_ops.py\u001b[0m in \u001b[0;36mread_variable_op\u001b[0;34m(resource, dtype, name)\u001b[0m\n\u001b[1;32m    532\u001b[0m   \u001b[0;32mif\u001b[0m \u001b[0mtld\u001b[0m\u001b[0;34m.\u001b[0m\u001b[0mis_eager\u001b[0m\u001b[0;34m:\u001b[0m\u001b[0;34m\u001b[0m\u001b[0;34m\u001b[0m\u001b[0m\n\u001b[1;32m    533\u001b[0m     \u001b[0;32mtry\u001b[0m\u001b[0;34m:\u001b[0m\u001b[0;34m\u001b[0m\u001b[0;34m\u001b[0m\u001b[0m\n\u001b[0;32m--> 534\u001b[0;31m       _result = pywrap_tfe.TFE_Py_FastPathExecute(\n\u001b[0m\u001b[1;32m    535\u001b[0m         _ctx, \"ReadVariableOp\", name, resource, \"dtype\", dtype)\n\u001b[1;32m    536\u001b[0m       \u001b[0;32mreturn\u001b[0m \u001b[0m_result\u001b[0m\u001b[0;34m\u001b[0m\u001b[0;34m\u001b[0m\u001b[0m\n",
            "\u001b[0;31mKeyboardInterrupt\u001b[0m: "
          ]
        }
      ]
    },
    {
      "cell_type": "code",
      "source": [
        "test_inputs,test_references,test_candidates,test_times,bleu_score,avg_time = generate_responses_and_evaluate_bleu(\n",
        "    model, tokenizer, encoder_input_data, decoder_target_data, max_len,\n",
        "    tokenizer.word_index['<start>'], tokenizer.word_index['<end>']\n",
        ")"
      ],
      "metadata": {
        "id": "riMAam1u-0Yr",
        "outputId": "c70150e1-7511-431b-c309-06a137adfa14",
        "colab": {
          "base_uri": "https://localhost:8080/"
        }
      },
      "execution_count": null,
      "outputs": [
        {
          "output_type": "stream",
          "name": "stdout",
          "text": [
            "sentence_started:  gone\n",
            "gone\n",
            "Harry:  yeah end                                                                                                                                                                                                                   \n",
            "time elapsed:  19.294798374176025\n",
            "sentence_finished\n",
            "sentence_started:  third time this week if you can’t control that owl it’ll have to go\n",
            "third time this week if you can’t control that owl it’ll have to go\n",
            "Harry:  yeah "
          ]
        },
        {
          "output_type": "stream",
          "name": "stderr",
          "text": [
            "/usr/local/lib/python3.10/dist-packages/nltk/translate/bleu_score.py:552: UserWarning: \n",
            "The hypothesis contains 0 counts of 2-gram overlaps.\n",
            "Therefore the BLEU score evaluates to 0, independently of\n",
            "how many N-gram overlaps of lower order it contains.\n",
            "Consider using lower n-gram order or use SmoothingFunction()\n",
            "  warnings.warn(_msg)\n",
            "/usr/local/lib/python3.10/dist-packages/nltk/translate/bleu_score.py:552: UserWarning: \n",
            "The hypothesis contains 0 counts of 3-gram overlaps.\n",
            "Therefore the BLEU score evaluates to 0, independently of\n",
            "how many N-gram overlaps of lower order it contains.\n",
            "Consider using lower n-gram order or use SmoothingFunction()\n",
            "  warnings.warn(_msg)\n",
            "/usr/local/lib/python3.10/dist-packages/nltk/translate/bleu_score.py:552: UserWarning: \n",
            "The hypothesis contains 0 counts of 4-gram overlaps.\n",
            "Therefore the BLEU score evaluates to 0, independently of\n",
            "how many N-gram overlaps of lower order it contains.\n",
            "Consider using lower n-gram order or use SmoothingFunction()\n",
            "  warnings.warn(_msg)\n"
          ]
        },
        {
          "output_type": "stream",
          "name": "stdout",
          "text": [
            "end                                                                                                                                                                                                                   \n",
            "time elapsed:  15.826366424560547\n",
            "sentence_finished\n"
          ]
        }
      ]
    },
    {
      "cell_type": "code",
      "source": [
        "for i in range(min(len(train_decoder_target), 100)):  # Ensure not to exceed the length of the data or 100 items\n",
        "    # Ensure we pass a list of sequences, even if it's a list with only one sequence\n",
        "    sequence_text = tokenizer.sequences_to_texts([val_decoder_target[i]])\n",
        "    print(sequence_text)  # This will print the list containing the text representation of the i-th sequence\n"
      ],
      "metadata": {
        "id": "eAI17_zSKCoF",
        "outputId": "e091ab94-872e-46f3-f63c-95a9904e79e5",
        "colab": {
          "base_uri": "https://localhost:8080/"
        }
      },
      "execution_count": null,
      "outputs": [
        {
          "output_type": "stream",
          "name": "stdout",
          "text": [
            "['where is it now end']\n",
            "['what about dumbledore hagrid end']\n",
            "['“what ” end']\n",
            "['yeah i do malfoy’s father’s in azkaban don’t you think malfoy’d like revenge end']\n",
            "['fleur didn’t turn up i couldn’t leave her end']\n",
            "['but if voldemort’s trying to recruit more death eaters it’s bound to get out that he’s come back isn’t it end']\n",
            "['there were witnesses who saw pettigrew die a whole street full of them end']\n",
            "['oh i dunno let’s say i dreamed i was drowning snape in my cauldron yeah that’ll do end']\n",
            "['yeah i expect that’s what mcgonagall will say when i ask for permission end']\n",
            "['less than zero better try though hadn’t i i’ll offer to do two more detentions or something i dunno i hope she doesn’t keep me too long this evening you realize we’ve got to write three essays practice vanishing spells for mcgonagall work out a countercharm for flitwick finish the bowtruckle drawing and start that stupid dream diary for trelawney end']\n",
            "['fortuna major end']\n",
            "['“well hurry up i can’t breathe ” end']\n",
            "['where are we going end']\n",
            "['— i meant to and that’s what did it i’ve done what my mother did they’re protected from you haven’t you noticed how none of the spells you put on them are binding you can’t torture them you can’t touch them you don’t learn from your mistakes riddle do you end']\n",
            "['so you think that dream did it really happen end']\n",
            "['kind of makes you wish we had norbert back doesn’t it end']\n",
            "['but the fake sword isn’t the only thing in that vault is it perhaps you’ve seen the other things in there end']\n",
            "['it wasn’t like that end']\n",
            "['but how did you get in there you need to speak parseltongue end']\n",
            "['i need you two as well end']\n",
            "['dumbledore just said — just said we could save more than one innocent life hermione we’re going to save buckbeak end']\n",
            "['looks like a really good plan from where i’m standing they’ll just have to stand back and let the dragons do their stuff end']\n",
            "['have you been spying on him too end']\n",
            "['cho women what did she want to talk about cedric for anyway why does she always want to drag up a subject that makes her act like a human hosepipe end']\n",
            "['it looks like king’s cross station except a lot cleaner and empty and there are no trains as far as i can see end']\n",
            "['no it definitely didn’t sound like an elf end']\n",
            "['he’s not looking too good is he end']\n",
            "['and do you — end']\n",
            "['double divination this afternoon end']\n",
            "['the snitch i caught in my first ever quidditch match don’t you remember end']\n",
            "['no no end']\n",
            "['like voldemort put on the stone basin in the cave end']\n",
            "['well i don’t know what they are but apparently he and his daughter go on holiday looking for them that’s her end']\n",
            "['neville end']\n",
            "['“ron —” end']\n",
            "['no you didn’t you didn’t do that you can’t have done end']\n",
            "['think of a dream quick in case the old toad comes our way end']\n",
            "['what’s dumbledore asked you to do hagrid he sent professor mcgonagall to ask you and madame maxime to meet him — that night end']\n",
            "['you considered smith end']\n",
            "['okay end']\n",
            "['i dunno maybe it’s better when you do it yourself i didn’t enjoy it much when dumbledore took me along for the ride charlie failed though didn’t he end']\n",
            "['what did you tell her end']\n",
            "['he’s friends with that dog i’ve seen them together come on — and keep your wand out — end']\n",
            "['yeah i want to play quidditch hang on i’ll get my firebolt end']\n",
            "['unless he was asleep said harry but he still held his breath as hermione knelt down in front of the empty canvas her wand directed at its center cleared her throat then said “er — phineas phineas nigellus ” end']\n",
            "['they brought the kids from the orphanage here end']\n",
            "['why d’you wear that thing dobby end']\n",
            "['hagrid thanks end']\n",
            "['well i’m glad he left if he hadn’t i wouldn’t have done magic and dumbledore would probably have left me at privet drive all summer end']\n",
            "['i hoped he’d get back to me quickly end']\n",
            "['he could still’ve kept me informed if he’d wanted to you’re not telling me he doesn’t know ways to send messages without owls end']\n",
            "['dunno but he says it’s all important and it’ll help me survive end']\n",
            "['stupefy stupefy stubefy end']\n",
            "['i know i can love big deal end']\n",
            "['yes end']\n",
            "['i know end']\n",
            "['yeah that’s right i’ve just been crying my eyes out over my dead mum and i’m just off to do a bit more end']\n",
            "['don’t make me feel worse — and he said people from muggle families shouldn’t even be allowed in — end']\n",
            "['so you must know loads of magic already horrible — well not all of them my aunt and uncle and cousin are though wish i’d had three wizard brothers end']\n",
            "['i see myself shaking hands with dumbledore i — i’ve won the house cup for gryffindor end']\n",
            "['mr ollivander you told you know who that gregorovitch had the elder wand didn’t you never mind how i know it you told you know who that gregorovitch had the wand end']\n",
            "['what was it like end']\n",
            "['we need some help end']\n",
            "['yeah thank god end']\n",
            "['i don’t know how much power mcgonagall’s got over her end']\n",
            "['i’ll get them end']\n",
            "['what are you up to end']\n",
            "['how then broomsticks end']\n",
            "['was he after the defense against the dark arts job again sir he didn’t say end']\n",
            "['last night i thought it was my dad who’d conjured my patronus i mean when i saw myself across the lake i thought i was seeing him it was stupid thinking it was him i mean i knew he was dead end']\n",
            "['“what end']\n",
            "['if you ask that once more end']\n",
            "['thanks dedalus it’s really good of you to do this they’re through here my aunt and uncle and cousin end']\n",
            "['why’m i with you end']\n",
            "['yeah at the quidditch world cup end']\n",
            "['what end']\n",
            "['i’m fine end']\n",
            "['oh i — i’ve got to go to the library got to get some work done end']\n",
            "['good luck three turns what’s he talking about what are we supposed to do end']\n",
            "['not bad you end']\n",
            "['it’d be a bit more impressive if she hadn’t done it about eighty times before but if i’d dropped dead every time she’s told me i’m going to i’d be a medical miracle end']\n",
            "['are you okay hagrid end']\n",
            "['i got it back end']\n",
            "['what are those things d’you reckon what things end']\n",
            "['no he was cleverer than you a better wizard a better man end']\n",
            "['hello end']\n",
            "['there is actually sir it’s about malfoy and snape end']\n",
            "['but — i — all right but — end']\n",
            "['er — hi er — good to see you end']\n",
            "['“i think i can tell who the wrong sort are for myself thanks ” end']\n",
            "['i don’t think so i think it’s just been knocked out urgh – troll boogers end']\n",
            "['in her office okay let’s go end']\n",
            "['nothing i — poked myself in the eye that’s all end']\n",
            "['right end']\n",
            "['ah that’s the only bit of me dumbledore cares about isn’t it my scar end']\n",
            "['i understand you told him about the twin cores you said he just had to borrow another wizard’s wand but it didn’t work mine still beat the borrowed wand do you know why that is end']\n",
            "['reparo end']\n",
            "['yeah fine end']\n",
            "['what end']\n",
            "['wow — that’s right i forgot i’m seventeen accio glasses end']\n"
          ]
        }
      ]
    },
    {
      "cell_type": "code",
      "source": [
        "for i in range(len(test_inputs)):\n",
        "    print(\"Input Sentence:\", test_inputs[i])\n",
        "    print(\"Model Output:\", test_candidates[i])\n",
        "    print(\"Reference Sentence:\", test_references[i])\n",
        "    print(\"Response time:\",test_times[i])\n",
        "    print(\"---\" * 10)"
      ],
      "metadata": {
        "id": "b83Mc8WuAiGk"
      },
      "execution_count": null,
      "outputs": []
    },
    {
      "cell_type": "code",
      "source": [
        "print(f\"Average BLEU Score: {bleu_score}\")\n",
        "print(f\"Average Response Time: {avg_time} seconds\")"
      ],
      "metadata": {
        "id": "aMmagRmnDi8Q"
      },
      "execution_count": null,
      "outputs": []
    },
    {
      "cell_type": "code",
      "source": [
        "from nltk.translate.bleu_score import corpus_bleu\n",
        "test_data = load_data('/content/drive/My Drive/en_test_set.json')"
      ],
      "metadata": {
        "id": "TUxKLaouYY4x"
      },
      "execution_count": null,
      "outputs": []
    },
    {
      "cell_type": "code",
      "source": [],
      "metadata": {
        "id": "d3x2crdpRiXI"
      },
      "execution_count": null,
      "outputs": []
    },
    {
      "cell_type": "code",
      "source": [
        "#extract harry dialogues\n",
        "def extract_harry_dialogues(data):\n",
        "\n",
        "    conversations = []\n",
        "\n",
        "    # Iterate through each session\n",
        "    for session_id, session in data.items():\n",
        "        dialogue = session['dialogue']\n",
        "        for i in range(len(dialogue) - 1):  # Ensure there's a following line to consider as a response\n",
        "            if \"Harry:\" not in dialogue[i] and \"Harry:\" in dialogue[i + 1]:\n",
        "                # Extract the line before Harry's response if Harry is not speaking in the current line\n",
        "                input_line = dialogue[i]\n",
        "                response_line = dialogue[i + 1]\n",
        "\n",
        "                # Parse the lines to remove the speaker names\n",
        "                input_text = input_line.split(': ', 1)[1] if ': ' in input_line else input_line\n",
        "                response_text = response_line.split(': ', 1)[1] if ': ' in response_line else response_line\n",
        "\n",
        "                # Store the dialogues as tuples of (input, response)\n",
        "                conversations.append((input_text, response_text))\n",
        "\n",
        "    return conversations\n",
        "\n",
        "# Call the function with the path to your JSON file\n",
        "dialogues = extract_harry_dialogues(data)\n",
        "\n",
        "# Example output\n",
        "for input_text, response_text in dialogues[:10]:  # Print first 5 dialogues for example\n",
        "    print(\"Input:\", input_text)\n",
        "    print(\"Response:\", response_text)\n",
        "    print(\"------\")"
      ],
      "metadata": {
        "id": "mKOt6Tw_axp7",
        "outputId": "ebdad309-cdd5-4c86-e533-74921cd628e9",
        "colab": {
          "base_uri": "https://localhost:8080/"
        }
      },
      "execution_count": null,
      "outputs": [
        {
          "output_type": "stream",
          "name": "stdout",
          "text": [
            "Input: Up! Get up! Now! Up! Up! Are you up yet?\n",
            "Response: Nearly,\n",
            "------\n",
            "Input: Well, get a move on, I want you to look after the bacon. What did you say?\n",
            "Response: Nothing, nothing . . .\n",
            "------\n",
            "Input: On vacation in Majorca,\n",
            "Response: You could just leave me here,\n",
            "------\n",
            "Input: And come back and find the house in ruins? \n",
            "Response: I won’t blow up the house,\n",
            "------\n",
            "Input: . . . roaring along like maniacs, the young hoodlums,\n",
            "Response: I had a dream about a motorcycle, It was flying.\n",
            "------\n",
            "Input: MOTORCYCLES DON’T FLY!\n",
            "Response: I know they don’t, It was only a dream.\n",
            "------\n",
            "Input: Your new school uniform,\n",
            "Response: Oh, I didn’t realize it had to be so wet.\n",
            "------\n",
            "Input: Make Harry get it.\n",
            "Response: Make Dudley get it.\n",
            "------\n",
            "Input: Poke him with your Smelting stick,\n",
            "Response: That’s mine!\n",
            "------\n",
            "Input: I want to read that letter,\n",
            "Response: I want to read it, as it’s mine.\n",
            "------\n"
          ]
        }
      ]
    },
    {
      "cell_type": "code",
      "source": [],
      "metadata": {
        "id": "fNvmyxirRhyG"
      },
      "execution_count": null,
      "outputs": []
    }
  ]
}